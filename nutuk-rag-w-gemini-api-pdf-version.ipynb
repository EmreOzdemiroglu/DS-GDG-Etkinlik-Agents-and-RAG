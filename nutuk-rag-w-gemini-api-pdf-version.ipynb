{
 "cells": [
  {
   "cell_type": "markdown",
   "metadata": {},
   "source": [
    "Nutuk RAG w/ LangChain, Gemini, Chroma"
   ]
  },
  {
   "cell_type": "code",
   "execution_count": 1,
   "metadata": {
    "execution": {
     "iopub.execute_input": "2025-04-14T13:40:35.582914Z",
     "iopub.status.busy": "2025-04-14T13:40:35.582154Z",
     "iopub.status.idle": "2025-04-14T13:40:35.587291Z",
     "shell.execute_reply": "2025-04-14T13:40:35.586480Z",
     "shell.execute_reply.started": "2025-04-14T13:40:35.582879Z"
    },
    "trusted": true
   },
   "outputs": [],
   "source": [
    "# Install libraries LangChain, Chroma, GoogleGenAI etc."
   ]
  },
  {
   "cell_type": "code",
   "execution_count": 2,
   "metadata": {
    "execution": {
     "iopub.execute_input": "2025-04-14T13:42:26.187387Z",
     "iopub.status.busy": "2025-04-14T13:42:26.187127Z",
     "iopub.status.idle": "2025-04-14T13:42:27.013877Z",
     "shell.execute_reply": "2025-04-14T13:42:27.013317Z",
     "shell.execute_reply.started": "2025-04-14T13:42:26.187366Z"
    },
    "trusted": true
   },
   "outputs": [
    {
     "data": {
      "text/plain": [
       "True"
      ]
     },
     "execution_count": 2,
     "metadata": {},
     "output_type": "execute_result"
    }
   ],
   "source": [
    "from dotenv import load_dotenv\n",
    "import os\n",
    "\n",
    "\n",
    "load_dotenv()"
   ]
  },
  {
   "cell_type": "markdown",
   "metadata": {},
   "source": [
    "## Import the Nutuk PDF"
   ]
  },
  {
   "cell_type": "code",
   "execution_count": 3,
   "metadata": {},
   "outputs": [
    {
     "data": {
      "text/plain": [
       "430"
      ]
     },
     "execution_count": 3,
     "metadata": {},
     "output_type": "execute_result"
    }
   ],
   "source": [
    "from langchain_community.document_loaders import PyPDFLoader\n",
    "\n",
    "loader = PyPDFLoader(\"nutuk.pdf\")\n",
    "data = loader.load()\n",
    "\n",
    "len(data)"
   ]
  },
  {
   "cell_type": "markdown",
   "metadata": {},
   "source": [
    "## Verileri Parçalara Ayırma (Chunking)"
   ]
  },
  {
   "cell_type": "code",
   "execution_count": 4,
   "metadata": {},
   "outputs": [
    {
     "name": "stdout",
     "output_type": "stream",
     "text": [
      "Toplam parça sayısı: 2042\n"
     ]
    }
   ],
   "source": [
    "from langchain_text_splitters import RecursiveCharacterTextSplitter\n",
    "\n",
    "# Chunk_size 1000 olarak ayarladım, her parçada maksimum 1000 karakter olacak.\n",
    "text_splitter = RecursiveCharacterTextSplitter(chunk_size=1000)\n",
    "docs = text_splitter.split_documents(data)\n",
    "\n",
    "print(f\"Toplam parça sayısı: {len(docs)}\")"
   ]
  },
  {
   "cell_type": "code",
   "execution_count": 5,
   "metadata": {},
   "outputs": [
    {
     "data": {
      "text/plain": [
       "Document(metadata={'producer': 'Foxit G SDK 1.1 - Foxit Corporation', 'creator': 'PyPDF', 'creationdate': 'D:20141021111813', 'source': 'nutuk.pdf', 'total_pages': 430, 'page': 1, 'page_label': '2'}, page_content=\"etmek, savaş durumunun Doğu illerinde yarattığı yıkım ve yoksulluğa, hükûmet nezdinde\\nteşebbüslerde bulunarak elden geldiğince çare aramaktan ibaretti.\\nİstanbul'daki yönetim merkezinden verilmiş olan bu direktife uygun olarak, Erzurum şubesi, Doğu\\nillerinde Türk'ün haklarını korumakla birlikte, Ermeni göçü sırasında görülen kötü davranışlarla\\nhalkın hiçbir ilgisi bulunmadığını, Ermeni mallarının Rus istilâsına kadar korunduğunu, buna\\nkarşılık müslümanlara pek gaddarca davranıldığını; hattâ verilen emre aykırı olarak, göçten\\nalıkonan bazı Ermenilerin koruyucularına karşı yaptıkları kötülükleri, güvenilir belgelerle\\nmedeniyet dünyasına duyurmaya ve Doğu illerine dikilmiş olan hırs yüklü bakışları hükümsüz\\nbırakacak çalışmalar yapmaya karar veriyor (Erzurum şubesinin basılı bildirisi )\\nVilâyât-ı Şarkiye Müdafaa-i Hukuk-ı MiIliye Cemiyeti'nin Erzurum şubesini ilk olarak kuran\\nkimseler, Doğu illerinde yapılan propagandalar ile bunların hedeflerini, Türklük, Kürtlük - Ermenilik\")"
      ]
     },
     "execution_count": 5,
     "metadata": {},
     "output_type": "execute_result"
    }
   ],
   "source": [
    "docs[7]"
   ]
  },
  {
   "cell_type": "markdown",
   "metadata": {},
   "source": [
    "## Embedding Oluşturma ve ChromaDB Kaydetme"
   ]
  },
  {
   "cell_type": "code",
   "execution_count": 6,
   "metadata": {
    "execution": {
     "iopub.execute_input": "2025-04-14T13:42:44.006853Z",
     "iopub.status.busy": "2025-04-14T13:42:44.006209Z",
     "iopub.status.idle": "2025-04-14T13:42:45.494728Z",
     "shell.execute_reply": "2025-04-14T13:42:45.494128Z",
     "shell.execute_reply.started": "2025-04-14T13:42:44.006831Z"
    },
    "trusted": true
   },
   "outputs": [],
   "source": [
    "from langchain_chroma import Chroma\n",
    "from langchain_google_genai import GoogleGenerativeAIEmbeddings\n"
   ]
  },
  {
   "cell_type": "code",
   "execution_count": 7,
   "metadata": {
    "execution": {
     "iopub.execute_input": "2025-04-14T13:42:49.017037Z",
     "iopub.status.busy": "2025-04-14T13:42:49.016773Z",
     "iopub.status.idle": "2025-04-14T13:42:49.285592Z",
     "shell.execute_reply": "2025-04-14T13:42:49.285069Z",
     "shell.execute_reply.started": "2025-04-14T13:42:49.017018Z"
    },
    "trusted": true
   },
   "outputs": [
    {
     "data": {
      "text/plain": [
       "[0.05168594419956207,\n",
       " -0.030764883384108543,\n",
       " -0.03062233328819275,\n",
       " -0.02802734263241291,\n",
       " 0.01813093200325966]"
      ]
     },
     "execution_count": 7,
     "metadata": {},
     "output_type": "execute_result"
    }
   ],
   "source": [
    "# Embedding oluşturma\n",
    "\n",
    "embeddings = GoogleGenerativeAIEmbeddings(model=\"models/embedding-001\")\n",
    "vector = embeddings.embed_query(\"hello, world!\")\n",
    "vector[:5]\n"
   ]
  },
  {
   "cell_type": "markdown",
   "metadata": {},
   "source": [
    "**ChromaDB vector database oluşturma**"
   ]
  },
  {
   "cell_type": "code",
   "execution_count": 8,
   "metadata": {
    "execution": {
     "iopub.execute_input": "2025-04-14T13:42:53.059172Z",
     "iopub.status.busy": "2025-04-14T13:42:53.058345Z",
     "iopub.status.idle": "2025-04-14T13:42:55.663299Z",
     "shell.execute_reply": "2025-04-14T13:42:55.662723Z",
     "shell.execute_reply.started": "2025-04-14T13:42:53.059146Z"
    },
    "trusted": true
   },
   "outputs": [],
   "source": [
    "vectorstore = Chroma.from_documents(documents=docs, embedding=embeddings)"
   ]
  },
  {
   "cell_type": "markdown",
   "metadata": {},
   "source": [
    "**En yakın 10 chunk retrieve ediyor**"
   ]
  },
  {
   "cell_type": "code",
   "execution_count": 9,
   "metadata": {
    "execution": {
     "iopub.execute_input": "2025-04-14T13:44:17.597297Z",
     "iopub.status.busy": "2025-04-14T13:44:17.596788Z",
     "iopub.status.idle": "2025-04-14T13:44:17.601024Z",
     "shell.execute_reply": "2025-04-14T13:44:17.600345Z",
     "shell.execute_reply.started": "2025-04-14T13:44:17.597273Z"
    },
    "trusted": true
   },
   "outputs": [],
   "source": [
    "retriever = vectorstore.as_retriever(\n",
    "    search_type=\"similarity\", search_kwargs={\"k\": 10}\n",
    ")"
   ]
  },
  {
   "cell_type": "code",
   "execution_count": 18,
   "metadata": {
    "execution": {
     "iopub.execute_input": "2025-04-14T13:42:58.696481Z",
     "iopub.status.busy": "2025-04-14T13:42:58.695745Z",
     "iopub.status.idle": "2025-04-14T13:42:58.868274Z",
     "shell.execute_reply": "2025-04-14T13:42:58.867411Z",
     "shell.execute_reply.started": "2025-04-14T13:42:58.696440Z"
    },
    "trusted": true
   },
   "outputs": [],
   "source": [
    "retrieved_docs = retriever.invoke(\"Sakarya Meydan Muharebesi\")"
   ]
  },
  {
   "cell_type": "code",
   "execution_count": 19,
   "metadata": {
    "execution": {
     "iopub.execute_input": "2025-04-14T13:42:59.945043Z",
     "iopub.status.busy": "2025-04-14T13:42:59.944333Z",
     "iopub.status.idle": "2025-04-14T13:42:59.949787Z",
     "shell.execute_reply": "2025-04-14T13:42:59.949015Z",
     "shell.execute_reply.started": "2025-04-14T13:42:59.945017Z"
    },
    "trusted": true
   },
   "outputs": [
    {
     "data": {
      "text/plain": [
       "10"
      ]
     },
     "execution_count": 19,
     "metadata": {},
     "output_type": "execute_result"
    }
   ],
   "source": [
    "len(retrieved_docs)"
   ]
  },
  {
   "cell_type": "code",
   "execution_count": 20,
   "metadata": {
    "execution": {
     "iopub.execute_input": "2025-04-14T13:43:00.830667Z",
     "iopub.status.busy": "2025-04-14T13:43:00.830394Z",
     "iopub.status.idle": "2025-04-14T13:43:00.834692Z",
     "shell.execute_reply": "2025-04-14T13:43:00.833909Z",
     "shell.execute_reply.started": "2025-04-14T13:43:00.830648Z"
    },
    "trusted": true
   },
   "outputs": [
    {
     "name": "stdout",
     "output_type": "stream",
     "text": [
      "kudretinden yoksun birduruma getirdi.\n",
      "Muharebe durumunun bu safhasını sezer sezmez hemen özelliklesağ kanadımızla Sakarya\n",
      "ırmağı doğusunda düşman ordusunun sol kanadına ve daha sonra cephenin önemli yerlerinde\n",
      "karşı taarruza geçtik.Yunan ordusu yenildi ve geri çekilmeye mecbur oldu.13 Eylül 1921\n",
      "günüSakarya ırmağının doğusunda düşman ordusundan eser kalmadı. Böylece23 Ağustos\n",
      "gününden 13 Eylül gününe kadar, bu günler de dahil olmaküzere, yirmi iki gün yirmi iki gece\n",
      "aralıksız devam eden büyük ve kanlıSakarya Meydan Muharebesi yeni Türk devletinin tarihine,\n",
      "dünyatarihinde pek az rastlanan büyük bir meydan muharebesi örneği kaydetti.\n",
      "Saygıdeğer Efendiler, Başkomutanlık görevini fiilen üzerime aldığım zaman, Meclis'e ve millete\n",
      "mutlaka başaracağımız yolundaki kesininancımı arz ve ilân etmekle ve bu inancımı, varlığımın\n",
      "bütün haysiyetiniortaya atarak gerçekleştirmekle ilk manevî görevimi yapmış olduğumusanırım.\n"
     ]
    }
   ],
   "source": [
    "print(retrieved_docs[0].page_content)"
   ]
  },
  {
   "cell_type": "markdown",
   "metadata": {},
   "source": [
    "## Google Gemini API ile LLM entegrasyonu"
   ]
  },
  {
   "cell_type": "markdown",
   "metadata": {},
   "source": [
    "tempature değerleri\n",
    "\n",
    "\n",
    "* Düşük değerler (0.1-0.4): Daha keskin ve tutarlı cevaplar verir, model daha tahmin edilebilir hale gelir.\n",
    "* Orta değerler (0.5-0.7): Hem daha mantıklı hem de yaratıcı cevaplar verebilir.\n",
    "* Yüksek değerler (0.7-1): Daha rastgele, yaratıcılık daha yüksek ancak bu mantıksız cevaplar vermesine yol açabilir.\n"
   ]
  },
  {
   "cell_type": "code",
   "execution_count": 21,
   "metadata": {
    "execution": {
     "iopub.execute_input": "2025-04-14T13:43:05.840170Z",
     "iopub.status.busy": "2025-04-14T13:43:05.839905Z",
     "iopub.status.idle": "2025-04-14T13:43:05.846569Z",
     "shell.execute_reply": "2025-04-14T13:43:05.845926Z",
     "shell.execute_reply.started": "2025-04-14T13:43:05.840151Z"
    },
    "trusted": true
   },
   "outputs": [],
   "source": [
    "from langchain_google_genai import ChatGoogleGenerativeAI\n",
    "\n",
    "llm = ChatGoogleGenerativeAI(\n",
    "    model=\"gemini-2.0-flash\",\n",
    "    temperature=0.3,\n",
    "    max_tokens=500\n",
    ")"
   ]
  },
  {
   "cell_type": "code",
   "execution_count": 22,
   "metadata": {
    "execution": {
     "iopub.execute_input": "2025-04-14T13:43:06.570410Z",
     "iopub.status.busy": "2025-04-14T13:43:06.569790Z",
     "iopub.status.idle": "2025-04-14T13:43:06.607832Z",
     "shell.execute_reply": "2025-04-14T13:43:06.607306Z",
     "shell.execute_reply.started": "2025-04-14T13:43:06.570387Z"
    },
    "trusted": true
   },
   "outputs": [],
   "source": [
    "from langchain_core.prompts import ChatPromptTemplate\n",
    "from langchain.chains.combine_documents import create_stuff_documents_chain\n",
    "from langchain.chains import create_retrieval_chain"
   ]
  },
  {
   "cell_type": "code",
   "execution_count": 23,
   "metadata": {
    "execution": {
     "iopub.execute_input": "2025-04-14T13:43:07.226295Z",
     "iopub.status.busy": "2025-04-14T13:43:07.225529Z",
     "iopub.status.idle": "2025-04-14T13:43:07.229795Z",
     "shell.execute_reply": "2025-04-14T13:43:07.229099Z",
     "shell.execute_reply.started": "2025-04-14T13:43:07.226272Z"
    },
    "trusted": true
   },
   "outputs": [],
   "source": [
    "system_prompt = (\n",
    "    \"Sen, Nutuk kitabındaki parçalara dayanarak soru-cevap görevlerini gerçekleştiren bir asistansın. \"\n",
    "    \"Cevap verirken Gazi Mustafa Kemal Atatürk'ün hitap tarzını benimse: kararlı, tarihi temellere dayanan, milletine seslenir gibi. \"\n",
    "    \"Cevapları, Nutuk'tan verilen bağlam parçalarına dayanarak ver. \"\n",
    "    \"Eğer verilen bağlamda cevap yoksa, 'Bu konuda elimdeki vesikalar yetersizdir.' şeklinde cevapla. \"\n",
    "    \"Yanıtın bir hitap gibi, veciz ve etkileyici olsun. En fazla üç cümle kullan.\"\n",
    "    \"\\n\\n\"\n",
    "    \"{context}\"\n",
    ")\n",
    "\n"
   ]
  },
  {
   "cell_type": "code",
   "execution_count": 24,
   "metadata": {
    "execution": {
     "iopub.execute_input": "2025-04-14T13:43:09.440793Z",
     "iopub.status.busy": "2025-04-14T13:43:09.440520Z",
     "iopub.status.idle": "2025-04-14T13:43:09.444872Z",
     "shell.execute_reply": "2025-04-14T13:43:09.444110Z",
     "shell.execute_reply.started": "2025-04-14T13:43:09.440776Z"
    },
    "trusted": true
   },
   "outputs": [],
   "source": [
    "prompt = ChatPromptTemplate.from_messages(\n",
    "    [\n",
    "        (\"system\",system_prompt),\n",
    "        (\"human\",\"{input}\")\n",
    "    ]\n",
    ")"
   ]
  },
  {
   "cell_type": "markdown",
   "metadata": {},
   "source": [
    "## Soru - Cevap Zinciri Oluşturma (LLM + PROMPT)"
   ]
  },
  {
   "cell_type": "code",
   "execution_count": 26,
   "metadata": {
    "execution": {
     "iopub.execute_input": "2025-04-14T13:43:10.441675Z",
     "iopub.status.busy": "2025-04-14T13:43:10.441390Z",
     "iopub.status.idle": "2025-04-14T13:43:10.446575Z",
     "shell.execute_reply": "2025-04-14T13:43:10.445967Z",
     "shell.execute_reply.started": "2025-04-14T13:43:10.441653Z"
    },
    "trusted": true
   },
   "outputs": [],
   "source": [
    "question_answer_chain = create_stuff_documents_chain(llm, prompt)"
   ]
  },
  {
   "cell_type": "markdown",
   "metadata": {},
   "source": [
    "## RAG Zinciri (RAG+LLM)"
   ]
  },
  {
   "cell_type": "code",
   "execution_count": 27,
   "metadata": {
    "execution": {
     "iopub.execute_input": "2025-04-14T13:43:11.545805Z",
     "iopub.status.busy": "2025-04-14T13:43:11.545532Z",
     "iopub.status.idle": "2025-04-14T13:43:11.549525Z",
     "shell.execute_reply": "2025-04-14T13:43:11.548998Z",
     "shell.execute_reply.started": "2025-04-14T13:43:11.545785Z"
    },
    "trusted": true
   },
   "outputs": [],
   "source": [
    "rag_chain = create_retrieval_chain(retriever, question_answer_chain)"
   ]
  },
  {
   "cell_type": "markdown",
   "metadata": {},
   "source": [
    "## Kullanıcı sorgusu ile cevap üretme"
   ]
  },
  {
   "cell_type": "code",
   "execution_count": 28,
   "metadata": {
    "execution": {
     "iopub.execute_input": "2025-04-14T13:46:56.984388Z",
     "iopub.status.busy": "2025-04-14T13:46:56.983785Z",
     "iopub.status.idle": "2025-04-14T13:46:57.501814Z",
     "shell.execute_reply": "2025-04-14T13:46:57.501310Z",
     "shell.execute_reply.started": "2025-04-14T13:46:56.984364Z"
    },
    "trusted": true
   },
   "outputs": [],
   "source": [
    "response = rag_chain.invoke({\"input\":\"Samsun'a neden çıktınız?\"})"
   ]
  },
  {
   "cell_type": "code",
   "execution_count": 29,
   "metadata": {
    "execution": {
     "iopub.execute_input": "2025-04-14T13:46:59.252039Z",
     "iopub.status.busy": "2025-04-14T13:46:59.251302Z",
     "iopub.status.idle": "2025-04-14T13:46:59.256026Z",
     "shell.execute_reply": "2025-04-14T13:46:59.255191Z",
     "shell.execute_reply.started": "2025-04-14T13:46:59.252011Z"
    },
    "trusted": true
   },
   "outputs": [
    {
     "name": "stdout",
     "output_type": "stream",
     "text": [
      "{'input': \"Samsun'a neden çıktınız?\", 'context': [Document(id='4b740686-e53e-412e-93b8-53d3d2cd079c', metadata={'creationdate': 'D:20141021111813', 'creator': 'PyPDF', 'page': 222, 'page_label': '223', 'producer': 'Foxit G SDK 1.1 - Foxit Corporation', 'source': 'nutuk.pdf', 'total_pages': 430}, page_content='Belki o tarihte, o bölgelerde bulunan sivil idare âmirleridir. Halk, gerçeği anlaranlamaz, derhal\\nmilletin ortak isteğine katılmakta asla kararsızlık göstermemiştir.\\nŞimdi Efendiler, yeniden inkılâbın tabiî sonuçlarından sayılan olaylardan bazılarına temas edelim\\n:\\nSAMSUN\\'DAKİ SUBAYLAR ARASINDA SÖZDE PADİŞAH TARAFTARLIĞI VARMIŞ\\n3\\'ncü Kolordu Komutanı Selâhattin Bey\\' den aldığım 29 Mart 1920 tarihli bir şifrede, \"Sam sun\\'da\\nbulunan 15\\' inci Tümen\\'in maneviyatının bo zuk olduğundan ve sözde, subaylar arasında\\nPadişahtaraftarlığı bulunduğundan\" söz ediliyordu. \"Subaylar, Padişâh aleyhindeverilecek emirleri\\nyerine getirmeyeceklerini komutanlarına bildirmişler.Baskı yapılırsa, görevlerini terketmeleri\\nihtimali varmış. İstanbul\\'dan gelen yolculardan ve gazebelerden, işgalin ikinci günü, elkonmuş\\nolan binaların hepsinin boşaltıldığı, Salih Paşa\\' nın yerinde olduğu, ÂyânMeclisi\\'nin görevine\\ndevam ettiği ve son cuma selâmlığında, Harbiye veBahriye Nâzırları da hazır bulunarak, gerekli'), Document(id='3d545e52-4b84-4f11-8e6e-1dcdd969425d', metadata={'creationdate': 'D:20141021111813', 'creator': 'PyPDF', 'page': 312, 'page_label': '313', 'producer': 'Foxit G SDK 1.1 - Foxit Corporation', 'source': 'nutuk.pdf', 'total_pages': 430}, page_content=\"313\\nBu grubun faal ve inatçı üyelerinden olan Samsun milletvekiliEmin Bey, son zamanlarda bir\\nvesileyle Ankara'ya gelmişti. Bütüngerçekleri anlamıştı; kışkırtıcı ve bozguncuları lânetliyordu. Bu\\nzat banaşunu anlattı : Rauf Bey, İkinci Grubu kışkırtıyor ve aşırı davranışlarasürüklüyormuş...\\nEmin Bey, Rauf Bey'e demiş ki : Rauf Bey, şu cevabı vermiş :\\nEfendiler, bildiğiniz üzere, o zaman yürürlükte olan kanuna göre,Bakanlıklar için, ben Meclis'e\\naday gösterirdim. Milletvekilleri gösterdiğim adaya olumlu veya olumsuz oy verirler yahut da\\nçekimser kalırlardı.İkinci Grup, benim adaylarımı dikkate almadan, kendi grupları adına ortaya\\nattıkları adaylara, kanuna aykırı olarak oy vermek suretiyle, hükûmetin kurulmasını engellemeye\\nbaşladılar.\\nEfendiler, Meclis'te ordu aleyhine de bir hareket yaratılmıştı. Diyorlardı ki, Sakarya\\nMuharebesi'nden sonra aylar geçtiği halde, ordu niçintaarruza geçmiyor? Mutlaka taarruz\"), Document(id='06858158-3dc5-4de2-9208-04bdc59e67f2', metadata={'creationdate': 'D:20141021111813', 'creator': 'PyPDF', 'page': 36, 'page_label': '37', 'producer': 'Foxit G SDK 1.1 - Foxit Corporation', 'source': 'nutuk.pdf', 'total_pages': 430}, page_content=\"şeklindedir. Mösyö Brunot'nun ikinci görüşmede ağız değiştirmesi ve yumuşaması, beni kazanma\\nmaksadına dayanabilir. Binbaşı Brunot'nun dediği gibi Sivas'ın Fransız'lar tarafından beş gün\\niçinde işgali o kadar kolay bir şey değildir. Zâtıdevletinizin hatırında olsa gerekir ki, İngilizler bu\\nkonudaki tehditlerinde daha ileri giderek Batum'daki askerlerinin Samsun'a çıkarılmasına karar\\nverdiler. Hatta sözde beni yıldırmak için, bir tabur bile çıkardılar. Fakat, bu teşebbüse karşı,\\nmilletin sarsılmaz bir azim, iman ve ateşle karşı koyacağı gerçeği kendilerince anlaşıldıktan\\nsonra, hem kararlarından vazgeçmeye hem de Samsun'a çıkarmış oldukları askerleriyle birlikte\\norada bulunan taburu da alıp götürmeye mecbur olmuşlardır. Sivas Kongresi'nde ele alınacak\"), Document(id='49983642-a75e-4942-9c3b-2b695149842c', metadata={'creationdate': 'D:20141021111813', 'creator': 'PyPDF', 'page': 3, 'page_label': '4', 'producer': 'Foxit G SDK 1.1 - Foxit Corporation', 'source': 'nutuk.pdf', 'total_pages': 430}, page_content=\"Benim, bu iki kolorduya doğrudan doğruya emir ve komuta vermekten daha ileri bir yetkim vardı\\nki, müfettişlik bölgesine yakın olan askerî birliklere de tebligat yapabilecektim. Aynı şekilde\\nbölgemde bulunan ve bölgeme komşu olan illere de tebligatta bulunabilecektim.\\nBu yetkiye göre, Ankara'da bulunan 20'nci Kolordu ve bunun bağlı bulunduğu müfettişlik ile,\\nDiyarbakır'daki kolordu ile ve hemen hemen Anadolu'nun bütün sivil yönetim amirleriyle ilşkiler\\nkurabilecek ve yazışmalar yapabilecektim.\\nBu geniş yetkinin, beni İstanbul'dan sürmek ve uzaklaştırmak maksadıyla Anadolu'ya gönderenler\\ntarafından, bana nasıl verilmiş olduğu garibinize gidebilir. Hemen ifade etmeliyim ki, onlar bu\\nyetkiyi bana bilerek ve anlayarak vermediler. Ne pahasına olursa olsun, benim İstanbul'dan\\nuzaklaşmamı isteyenlerin buldukları gerekçe Samsun ve dolaylarındaki güvensizlik olaylarını\\nyerinde görüp tedbir almak üzere Samsun'a kadar gitmekti. Ben, bu görevin yerine getirilmesinin\"), Document(id='81126837-155c-4488-8e4e-9ea0e005bdfb', metadata={'creationdate': 'D:20141021111813', 'creator': 'PyPDF', 'page': 6, 'page_label': '7', 'producer': 'Foxit G SDK 1.1 - Foxit Corporation', 'source': 'nutuk.pdf', 'total_pages': 430}, page_content=\"başaramayacağını sordum. Canik sancağı hakkında bilgi verdikten sonra, bir iki güne kadar\\nSamsun'dan karargâhımla bir süre için Havza'ya gideceğimi ve mutlaka Samsun'dan\\nhareketimden önce beni aydınlatacak bilgileri beklediğimi yazdım.\\n20'nci Kolordu Komutanından, üç gün sonra 26 Mayıs 1919'da aldığım cevapta İzmir'den düzenli\\nbilgi alamadıklarını, Manisa'nın da işgal edildiğini telgraf memurlarının haber verdiğini, kolordunun\\nEreğli'de bulunan birliklerinin hepsini trenle nakletmeyi başaramadıklarından karadan yürüyüşe\\nbaşladıklarını, ancak aradaki uzaklık dolayısıyla Ankara'ya ne zaman varacaklarının belli\\nolmadığını bildiriyordu.\\nKolordu Komutanı aynı telgrafında Afyonkarahisar'da bulunan 23'üncü Tümen'in mevcudunun\\nazlığından ve orada ellerine geçen erleri bu tümene göndermekte olduklarından söz ettikten\\nsonra, Kastamonu ve Kayseri dolaylarından, güvenlik bozucu bazı olaylarla ilgili haberler gelmeye\\nbaşladığını bildiriyor ve zaman zaman bilgi vereceğini yazıyordu.\"), Document(id='5dbec548-b79c-4e2a-9cd8-2bbcbbf4b016', metadata={'creationdate': 'D:20141021111813', 'creator': 'PyPDF', 'page': 200, 'page_label': '201', 'producer': 'Foxit G SDK 1.1 - Foxit Corporation', 'source': 'nutuk.pdf', 'total_pages': 430}, page_content='201\\ngönderileceğini bildirmiş. Dahiliye Nazırı da serbestçe iş görmesine karışılmamasını istemiş. Polis\\nMüdürü ile Jandarma Komutanı\\'nın değiştirilmesine güçlerinin yetmediğini anlatmış. Eskiden beri\\ndostu olan Keşfî Bey\\'in dürüstlüğünden ve onu Bursa\\'ya vali, Faik Ali Bey\\'i de müsteşar\\nyaptığından bahsetmiş. Salih Paşa da, Maraş ve dolaylarında boşaltılan yerlere, hükûmetçe el\\nkoymayı siyasî bakımdan müınkün görmemiş, Fransiz basınını aleyhimize çevirir, demiş.\\nPadişah, hükûmete, Meclis\\'ten çok hâkim imiş. Meclis\\'in ruh haline göre, bu hükûmeti düşürmek\\nve yerine gerekli şartları taşıyan millî bir kabineyi getirmek mümkün değilmiş\" (Belge : 236)\\nBu bilgileri, Anadolu ve Rumeli\\'de bulunan tekmil komutanlara bildirirken, şunu da ekledik :\\nHey\\'et-i Temsiliye, işgal ve çeşitli yabancı etkilerin baskısı altında bulunan İstanbul\\'da, daha millî\\nve fedakâr bir hükûmetin. işbaşına getirilmesindeki güçlükleri takdir ettiğinden, Sadrazam'), Document(id='ca6f27b9-374c-4948-8e9b-c2929b11c2b8', metadata={'creationdate': 'D:20141021111813', 'creator': 'PyPDF', 'page': 395, 'page_label': '396', 'producer': 'Foxit G SDK 1.1 - Foxit Corporation', 'source': 'nutuk.pdf', 'total_pages': 430}, page_content=\"düzenleyenlere biz de bir soru soralım :\\nÖnce, kamuoyunun ne düşündüğünü hangi yolla nasıl öğrenmişler? Sonra, İstanbul seçmenleri,\\nyalnız tek iki gazeteciden mi ibaretti; yoksa,bütün seçmenler, iki gazeteciye milletvekillerinin\\ndüşüncesini sormak için vekâlet mi vermişlerdir? Yoksa bu, Rauf Bey'in : '' Seçmenlerin bu\\nhakkını büyük bir saygıyla kabul edenlerden olduğunu, kendisini seçerken gösterdikleri yüksek\\ngüvene teşekkür borcu bulunduğunu ve ona lâyık olmaya çalışacağını, kendisine verdikleri\\nemaneti her zaman ve her yerde korumak ve en iyi şekilde idare etmek için kudret ve kabiliyetinin\\nson kertesine kadar çalışacağına güvenmelerini'' söylemeye zemin hazırlamak için miydi? Gerçi,\\nbir milletvekilinin seçmenleri için bu yolda konuşması pek uygundur. Ancak, yerinde, zamanında\\nve samimî olmak şartıyla! Yoksa, Curıhuriyet'in ilânında, kamuoyunun beklenmedik bir durum\\nkarşısında bırakılmış olduğu şeklindeki kasıtlı bir soruya karşı ''seçmenlerin verdikleri emaneti her\"), Document(id='78e2f34f-bf83-46ec-9f60-8fb5300c164e', metadata={'creationdate': 'D:20141021111813', 'creator': 'PyPDF', 'page': 299, 'page_label': '300', 'producer': 'Foxit G SDK 1.1 - Foxit Corporation', 'source': 'nutuk.pdf', 'total_pages': 430}, page_content='şeriatın hışmına uğramaktan çekindi. Ahmet İzzet Paşa\\'nın daha başka marifetleri de olmuştur.\\nOnları da bildireyim :\\nSavaş bütün hızıyla devam ederken ve milletin maddî ve manevîkuwetlerini düşman karşısına\\ntoplamaya çalıştığımız günlerde, Türkmilletinin büyük kuvvetleri ellerine verilmiş olan kimselere\\nde, yazdığıözel mektuplarla ümitsizlik ve bezginlik verecek karamsarlıklarını aşılamakta devam\\nediyordu. Benim, \"Düşman ordusunu mutlaka yeneceğiz,vatanı mutlaka kurtaracağız\" sözlerimle\\nalay ederek, İkinci İnönü\\'ndensonra yeniden doğuya Sakarya\\'ya doğru yürümekte olan Yunan\\nordusunun hareketini bir gözdağı gibi kullanarak akıl ve anlayış dersi vermekten geri kalmıyordu.\\nEfendiler, ne gariptir ki, kendisini dev aynasında gören bu kafanın,tuttuğum yolun felâket\\ndoğuracağını bi1diren bir mektubu, Sakarya\\'dadüşmana karşı taarruz ederek onu geri çekilmeye\\nmecbur ettiğimiz gün,görev icabı bana gösterilmişti. Bu mektup bizi şaşkınlık içinde bırakmıştı.'), Document(id='ac15a4f0-c6c8-4f04-a392-8b18ca77e313', metadata={'creationdate': 'D:20141021111813', 'creator': 'PyPDF', 'page': 286, 'page_label': '287', 'producer': 'Foxit G SDK 1.1 - Foxit Corporation', 'source': 'nutuk.pdf', 'total_pages': 430}, page_content=\"cevabı mı bildiriyordu? Bu da açık değildir. İstanbul, 8.2.1921\\nAnkara'da llılııstafa Kenzal Paşa Hazretleri'ne\\nFransız kamuoyunu incitmemek için Kilikya'da taarruzdan kaçınılmasıhayırseverliğinden şüphe\\nedilmeyen bazı Fransız devlet adamlarının tavsivesiüzerine, Paris delegemiz tarafından büyük bir\\nönemle bildirilmiştir. Sadrazam Tevfik\\nOSMANLI DEVLET ADMLARININ BELİRGİN ÖZELLİKLERİ\\nEfendiler, bu gibi tavsiyeleri, İstanbul hükûmetlerinden çok dinlemiştik. Bizim taarruzdan\\nkaçınmamızı tavsiye eden hayırseverin karşısındaki kimse,işittiğini bir gramofon gibi bize\\nulaştırırken, bu hayırsevere, bize taarruzdankaçınılmasını, gerelsenlere tavsiye edip etmediğini\\nsormuş mudur acaba?Aldığı cevap, olumsuz idiyse, onun hayırseverliğine nereden hükmetmişti?\\nVatanımızı işgal edenlerin Kamuoyunu gücendirmemeyi tavsiye edenlere, vatanı işgal edilen\\nmilleti niçin incittiklerini ve incitmekte devamettiklerini sormamak, neden bu Osmanlı devlet\\nadamlarının belirgin özellikleri olmuştu?\"), Document(id='b9b6e704-f0fe-4106-b1c5-ebfd3b946e94', metadata={'creationdate': 'D:20141021111813', 'creator': 'PyPDF', 'page': 26, 'page_label': '27', 'producer': 'Foxit G SDK 1.1 - Foxit Corporation', 'source': 'nutuk.pdf', 'total_pages': 430}, page_content=\"dedirtmekle ne çıkacak? Zaten o kaç maya hazır. Yerine acaba kim gelecek? Emirlerinizin kısa\\nve açık olmasını rica ederim. S â l a h a t t i n B e y ' le ilgili telgrafınızı lûtfen bir daha okuyunuz.\\nFırtına ile başlayıp sukûnetle biten bu telgraftan kesin olarak ne demek isten diğini çıkaramadım.\\nBununla birlikte, birkaç güne kadar S a l â h a t t i n B e y Samsun'dan dönüyor. Kendisiyle\\ngörüşeceğim: Şüphesiz kendisini uygun bir tarzda ve amaca hizmet yolunda idare için gerekli\\ntedbirleri alıyorum.\\n2 - Samsun'a çıkarılan taburun, buradaki Hintli Müslümanları değiştir mekle birlikte, asıl Sivas'ta\\nbulunduğunuzu zannettikleri zatıâlilerine karşı bir gözdağı vermek maksadıyla çıkarıldığını,\\nİngilizlerle temasımda anladım. Beni İstanbul'a gitmeye razı etmek için, Kavak'ta bulunduğum\\nzaman bir İngiliz bin başısı geldi. İngilizlere karşı gösterdiğim direnmeyi fırsat bilerek fakat aslında\\nzâtıâlîlerini yıpratmak için beni görevden aldırdıklarını açıkça söyledi. Zâtıâlîlerinin öteki dayanağı\")], 'answer': \"Ben, bu görevin yerine getirilmesinin Samsun ve dolaylarındaki güvensizlik olaylarını yerinde görüp tedbir almak üzere Samsun'a kadar gitmek olduğunu düşünerek bu görevi kabul ettim.\"}\n"
     ]
    }
   ],
   "source": [
    "print(response)"
   ]
  },
  {
   "cell_type": "code",
   "execution_count": 30,
   "metadata": {
    "execution": {
     "iopub.execute_input": "2025-04-14T13:47:01.577442Z",
     "iopub.status.busy": "2025-04-14T13:47:01.577133Z",
     "iopub.status.idle": "2025-04-14T13:47:01.581435Z",
     "shell.execute_reply": "2025-04-14T13:47:01.580772Z",
     "shell.execute_reply.started": "2025-04-14T13:47:01.577412Z"
    },
    "trusted": true
   },
   "outputs": [
    {
     "name": "stdout",
     "output_type": "stream",
     "text": [
      "Ben, bu görevin yerine getirilmesinin Samsun ve dolaylarındaki güvensizlik olaylarını yerinde görüp tedbir almak üzere Samsun'a kadar gitmek olduğunu düşünerek bu görevi kabul ettim.\n"
     ]
    }
   ],
   "source": [
    "print(response['answer'])"
   ]
  }
 ],
 "metadata": {
  "kaggle": {
   "accelerator": "nvidiaTeslaT4",
   "dataSources": [
    {
     "datasetId": 7139085,
     "sourceId": 11398793,
     "sourceType": "datasetVersion"
    }
   ],
   "dockerImageVersionId": 31011,
   "isGpuEnabled": true,
   "isInternetEnabled": true,
   "language": "python",
   "sourceType": "notebook"
  },
  "kernelspec": {
   "display_name": "nutuk-rag",
   "language": "python",
   "name": "python3"
  },
  "language_info": {
   "codemirror_mode": {
    "name": "ipython",
    "version": 3
   },
   "file_extension": ".py",
   "mimetype": "text/x-python",
   "name": "python",
   "nbconvert_exporter": "python",
   "pygments_lexer": "ipython3",
   "version": "3.10.16"
  }
 },
 "nbformat": 4,
 "nbformat_minor": 4
}
